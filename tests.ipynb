{
 "cells": [
  {
   "cell_type": "code",
   "execution_count": 1,
   "metadata": {},
   "outputs": [],
   "source": [
    "import pathlib as pl\n",
    "import pandas as pd\n",
    "import numpy as np\n",
    "import time\n",
    "import imperial_materials_simulation as ims"
   ]
  },
  {
   "cell_type": "markdown",
   "metadata": {},
   "source": [
    "### Physics Module Tests"
   ]
  },
  {
   "cell_type": "code",
   "execution_count": 2,
   "metadata": {},
   "outputs": [],
   "source": [
    "n_atoms = 22\n",
    "equilibrium_bond_length = 1.53\n",
    "spring_constant = 15.18\n",
    "sigma = 4.5\n",
    "epsilon = 0.00485678\n",
    "positions = np.zeros(shape=(n_atoms, 3))\n",
    "positions[:, 1] = np.linspace(0, (equilibrium_bond_length+np.random.rand()/10)-1, num=n_atoms)"
   ]
  },
  {
   "cell_type": "code",
   "execution_count": 5,
   "metadata": {},
   "outputs": [],
   "source": [
    "def GetBondingEnergy(pos, calculate_force=True): #old function\n",
    "#\n",
    "    potential_bond = 0.0\n",
    "#\n",
    "    bond = np.zeros(3)\n",
    "    bonddir = np.zeros(3)\n",
    "    force_bond = np.zeros((n_atoms,3))\n",
    "#\n",
    "    for i in range(n_atoms-1):\n",
    "        bond = pos[i+1]-pos[i]\n",
    "        bondlength = np.linalg.norm(bond)\n",
    "        bonddir = bond/bondlength\n",
    "        dbondlength = bondlength - equilibrium_bond_length\n",
    "        potential_bond = potential_bond + spring_constant*(dbondlength**2.0)/2.0\n",
    "        if calculate_force:\n",
    "            force_bond[i] = force_bond[i] + spring_constant*dbondlength*bonddir\n",
    "            force_bond[i+1] = force_bond[i+1] - spring_constant*dbondlength*bonddir\n",
    "    \n",
    "    return potential_bond, force_bond"
   ]
  },
  {
   "cell_type": "code",
   "execution_count": 6,
   "metadata": {},
   "outputs": [],
   "source": [
    "my_forces, my_potential = phys.get_bonding_interactions(positions, equilibrium_bond_length, spring_constant)\n",
    "his_potential, his_forces = GetBondingEnergy(positions)\n",
    "assert np.allclose(my_potential, his_potential)\n",
    "assert np.allclose(my_forces, his_forces)"
   ]
  },
  {
   "cell_type": "code",
   "execution_count": 7,
   "metadata": {},
   "outputs": [],
   "source": [
    "# start = time.perf_counter()\n",
    "# for i in range(100_000):\n",
    "#     GetBondingEnergy(positions)\n",
    "# old_run_time = time.perf_counter() - start\n",
    "# old_run_time"
   ]
  },
  {
   "cell_type": "code",
   "execution_count": 8,
   "metadata": {},
   "outputs": [],
   "source": [
    "# start = time.perf_counter()\n",
    "# for i in range(100_000):\n",
    "#     phys.get_bonding_interactions(positions, equilibrium_bond_length, spring_constant)\n",
    "# new_run_time = time.perf_counter() - start\n",
    "# new_run_time"
   ]
  },
  {
   "cell_type": "code",
   "execution_count": 9,
   "metadata": {},
   "outputs": [],
   "source": [
    "# old_run_time / new_run_time"
   ]
  },
  {
   "cell_type": "code",
   "execution_count": 10,
   "metadata": {},
   "outputs": [],
   "source": [
    "def GetNonBondingEnergy(pos, calculate_force=True): #old function\n",
    "#\n",
    "    disp = np.zeros(3)\n",
    "    dforce = np.zeros(3)\n",
    "    force_nonbond = np.zeros((n_atoms,3))\n",
    "#\n",
    "    potential_nonbond = 0.0\n",
    "    factor1 = -12.0*epsilon/(sigma*sigma)\n",
    "    for i in range(n_atoms-1):\n",
    "        for j in range(i+3,n_atoms):\n",
    "            disp = pos[j]-pos[i]\n",
    "            dist = np.linalg.norm(disp)\n",
    "            squared = (sigma/dist)**2.0\n",
    "            sixpower = squared**3.0 \n",
    "            twelvepower = sixpower*sixpower\n",
    "            potential_nonbond = potential_nonbond + epsilon*(twelvepower - 2.0*sixpower)\n",
    "            if calculate_force:\n",
    "                dforce  = factor1*squared*(twelvepower - sixpower)*disp\n",
    "                force_nonbond[i] = force_nonbond[i] + dforce\n",
    "                force_nonbond[j] = force_nonbond[j] - dforce\n",
    "    return potential_nonbond, force_nonbond"
   ]
  },
  {
   "cell_type": "code",
   "execution_count": 11,
   "metadata": {},
   "outputs": [],
   "source": [
    "def GetNonBondingEnergy_Carlos(pos, calculate_force=None):\n",
    "   #\n",
    "      force_nonbond = np.zeros((n_atoms,3))\n",
    "   #\n",
    "      potential_nonbond = 0.0\n",
    "      factor1 = -12.0*epsilon/(sigma*sigma)\n",
    "      for i in range(n_atoms-1):\n",
    "         \n",
    "         disp_mat=pos[i+3:]-pos[i]\n",
    "         #dist_sq=calc_dist(pos[i+3:],pos[i].reshape((1,3))).flatten()\n",
    "         #potentials\n",
    "         dist_sq=np.sum(disp_mat*disp_mat, axis=1)\n",
    "         squared_mat = np.divide(sigma**2,dist_sq)\n",
    "         sixpower_mat = squared_mat**3.0 \n",
    "         twelvepower_mat = sixpower_mat*sixpower_mat\n",
    "         potentials_nonbond_mat = epsilon*(twelvepower_mat - 2.0*sixpower_mat)\n",
    "         potential_nonbond = potential_nonbond+potentials_nonbond_mat.sum()\n",
    "         \n",
    "         \n",
    "         #\n",
    "         dforce=disp_mat*(factor1*squared_mat*(twelvepower_mat - sixpower_mat))[:,None]\n",
    "         force_nonbond[i]=force_nonbond[i]+np.sum(dforce,axis=0)\n",
    "         force_nonbond[i+3:]=force_nonbond[i+3:]- dforce\n",
    "\n",
    "      return potential_nonbond, force_nonbond"
   ]
  },
  {
   "cell_type": "code",
   "execution_count": 12,
   "metadata": {},
   "outputs": [],
   "source": [
    "my_forces, my_potential = phys.get_non_bonding_interactions(positions, epsilon, sigma)\n",
    "his_potential, his_forces = GetNonBondingEnergy(positions)\n",
    "assert np.allclose(my_potential, his_potential)\n",
    "assert np.allclose(my_forces, his_forces)"
   ]
  },
  {
   "cell_type": "code",
   "execution_count": 13,
   "metadata": {},
   "outputs": [],
   "source": [
    "# start = time.perf_counter()\n",
    "# for i in range(50_000):\n",
    "#     GetNonBondingEnergy_Carlos(positions)\n",
    "# old_run_time_nb = time.perf_counter() - start\n",
    "# old_run_time_nb"
   ]
  },
  {
   "cell_type": "code",
   "execution_count": 14,
   "metadata": {},
   "outputs": [],
   "source": [
    "# start = time.perf_counter()\n",
    "# for i in range(50_000):\n",
    "#     phys.get_non_bonding_interactions(positions, epsilon, sigma)\n",
    "# new_run_time_nb = time.perf_counter() - start\n",
    "# new_run_time_nb"
   ]
  },
  {
   "cell_type": "code",
   "execution_count": 15,
   "metadata": {},
   "outputs": [],
   "source": [
    "# old_run_time_nb / new_run_time_nb"
   ]
  },
  {
   "cell_type": "code",
   "execution_count": 16,
   "metadata": {},
   "outputs": [],
   "source": [
    "class OldPotentialEnergyTracker():\n",
    "    '''\n",
    "    Utility class for efficiently tracking how total potential energy (bonding + Lennard Jones non-bonding) changes\n",
    "    when a single atom is displaced.\n",
    "    '''\n",
    "\n",
    "    def __init__(self, positions: np.ndarray, epsilon: float, sigma: float, equilibrium_bond_length: float,\n",
    "                spring_constant: float) -> None:\n",
    "        'calculates key distances, lengths and total potential energy'\n",
    "        self.positions = positions\n",
    "        self.epsilon = epsilon\n",
    "        self.sigma = sigma\n",
    "        self.equilibrium_bond_length = equilibrium_bond_length\n",
    "        self.spring_constant = spring_constant\n",
    "        self.n_atoms = len(positions)\n",
    "\n",
    "        # (n_atoms, n_atoms, 3) array where array[i,j] is the displacement between ith atom and jth atom\n",
    "        self.displacements = positions.reshape((self.n_atoms, 1, 3)) - positions.reshape((1, self.n_atoms, 3))\n",
    "        \n",
    "        self.col_indexes, self.row_indexes = np.meshgrid(np.arange(self.n_atoms), np.arange(self.n_atoms))\n",
    "        self.bonding_mask = (self.col_indexes-self.row_indexes) == 1 #all bonding interactions\n",
    "        #half of non-bonding interactions (all that is needed to calculate non bonding potential energy)\n",
    "        self.non_bonding_mask = (self.col_indexes-self.row_indexes) > 2 \n",
    "\n",
    "        #should ignore distances between atom and itself (i==j). Set to 1 to prevent 0 division errors\n",
    "        self.displacements[self.col_indexes==self.row_indexes] = 1\n",
    "        self.lengths = np.linalg.norm(self.displacements, axis=2)\n",
    "\n",
    "        bonding_extensions = self.lengths[self.bonding_mask] - equilibrium_bond_length\n",
    "        bonding_potential =  np.sum(spring_constant/2 * bonding_extensions**2)\n",
    "        six_power = (sigma/self.lengths[self.non_bonding_mask]) ** 6\n",
    "        non_bonding_potential = np.sum(epsilon * (six_power**2 - 2*six_power))\n",
    "        self.total_potential_energy = bonding_potential + non_bonding_potential\n",
    "        \n",
    "        #used in test_displacement method. allows for each pair to only be checked once. length between ij\n",
    "        #calculated, but not length between ji. using the second length when only calculating potentials is redundant\n",
    "        self.relevant_interactions = self.col_indexes > self.row_indexes\n",
    "\n",
    "    def get_total_potential_energy(self):\n",
    "        '''return total potential energy of molecule'''\n",
    "        return self.total_potential_energy\n",
    "\n",
    "    def test_displacement(self, atom_index: int, displacement: np.ndarray) -> float:\n",
    "        '''stores temporary new positions, displacements, and lengths. Returns change in potential energy'''\n",
    "        self.new_positions = self.positions.copy()\n",
    "        self.new_positions[atom_index] += displacement\n",
    "\n",
    "        self.new_displacements = self.displacements.copy()\n",
    "        self.new_displacements[:, atom_index] = self.new_positions - self.new_positions[atom_index].reshape(1, 3)\n",
    "        self.new_displacements[atom_index, :] = self.new_positions[atom_index].reshape(1, 3) - self.new_positions\n",
    "\n",
    "        affected_interactions = (self.col_indexes == atom_index) | (self.row_indexes == atom_index)\n",
    "        update_mask = self.relevant_interactions & affected_interactions\n",
    "        self.new_lengths = self.lengths.copy()\n",
    "        #axis=1 as slicing 3D array with boolean mask returns 2D array\n",
    "        self.new_lengths[update_mask] = np.linalg.norm(self.new_displacements[update_mask], axis=1)\n",
    "\n",
    "        bonding_extensions = self.new_lengths[self.bonding_mask] - self.equilibrium_bond_length\n",
    "        bonding_potential =  np.sum(self.spring_constant/2 * bonding_extensions**2)\n",
    "        six_power = (self.sigma/self.new_lengths[self.non_bonding_mask])**6\n",
    "        non_bonding_potential = np.sum(self.epsilon * (six_power**2 - 2*six_power))\n",
    "        self.new_total_potential_energy = bonding_potential + non_bonding_potential\n",
    "        return self.new_total_potential_energy - self.total_potential_energy\n",
    "    \n",
    "    def accept_last_displacement(self) -> None:\n",
    "        '''replaces internal positions, displacements, and lengths with values from last test displacement'''\n",
    "        self.positions = self.new_positions\n",
    "        self.displacements = self.new_displacements\n",
    "        self.lengths = self.new_lengths\n",
    "        self.total_potential_energy = self.new_total_potential_energy"
   ]
  },
  {
   "cell_type": "code",
   "execution_count": 17,
   "metadata": {},
   "outputs": [],
   "source": [
    "F_b, PE_b = phys.get_bonding_interactions(positions, equilibrium_bond_length, spring_constant)\n",
    "F_nb, PE_nb = phys.get_non_bonding_interactions(positions, epsilon, sigma)\n",
    "func_PE = PE_b + PE_nb\n",
    "\n",
    "energy_tracker = phys.PotentialEnergyTracker(positions, epsilon, sigma, equilibrium_bond_length, spring_constant)\n",
    "class_PE = energy_tracker.get_total_potential_energy()\n",
    "\n",
    "assert np.allclose(func_PE, class_PE)"
   ]
  },
  {
   "cell_type": "code",
   "execution_count": 18,
   "metadata": {},
   "outputs": [],
   "source": [
    "atom_index, displacement = 1, np.array([0.1, 1, -0.3    ])\n",
    "new_positions = positions.copy()\n",
    "new_positions[atom_index] += displacement\n",
    "new_F_b, new_PE_b = phys.get_bonding_interactions(new_positions, equilibrium_bond_length, spring_constant)\n",
    "new_F_nb, new_PE_nb = phys.get_non_bonding_interactions(new_positions, epsilon, sigma)\n",
    "new_func_PE = new_PE_b + new_PE_nb\n",
    "func_PE_change = new_func_PE - func_PE\n",
    "\n",
    "class_PE_change = energy_tracker.test_displacement(atom_index, displacement)\n",
    "\n",
    "assert np.allclose(func_PE_change, class_PE_change)"
   ]
  },
  {
   "cell_type": "code",
   "execution_count": 20,
   "metadata": {},
   "outputs": [
    {
     "data": {
      "text/plain": [
       "2.733192899962887"
      ]
     },
     "execution_count": 20,
     "metadata": {},
     "output_type": "execute_result"
    }
   ],
   "source": [
    "# energy_tracker = OldPotentialEnergyTracker(positions, epsilon, sigma, equilibrium_bond_length, spring_constant)\n",
    "# start = time.perf_counter()\n",
    "# for i in range(50_000):\n",
    "#     energy_tracker.test_displacement(atom_index, displacement)\n",
    "# old_MMC_runtime = time.perf_counter() - start\n",
    "# old_MMC_runtime"
   ]
  },
  {
   "cell_type": "code",
   "execution_count": 21,
   "metadata": {},
   "outputs": [
    {
     "data": {
      "text/plain": [
       "0.30041690001962706"
      ]
     },
     "execution_count": 21,
     "metadata": {},
     "output_type": "execute_result"
    }
   ],
   "source": [
    "# energy_tracker = phys.PotentialEnergyTracker(positions, epsilon, sigma, equilibrium_bond_length, spring_constant)\n",
    "# start = time.perf_counter()\n",
    "# for i in range(50_000):\n",
    "#     energy_tracker.test_displacement(atom_index, displacement)\n",
    "# new_MMC_runtime = time.perf_counter() - start\n",
    "# new_MMC_runtime"
   ]
  },
  {
   "cell_type": "code",
   "execution_count": 22,
   "metadata": {},
   "outputs": [
    {
     "data": {
      "text/plain": [
       "9.097999812208702"
      ]
     },
     "execution_count": 22,
     "metadata": {},
     "output_type": "execute_result"
    }
   ],
   "source": [
    "# old_MMC_runtime / new_MMC_runtime"
   ]
  },
  {
   "cell_type": "markdown",
   "metadata": {},
   "source": [
    "### Main Module Tests"
   ]
  },
  {
   "cell_type": "code",
   "execution_count": null,
   "metadata": {},
   "outputs": [],
   "source": [
    "sim = main.Simulation(n_atoms=22, starting_temperature=1000)\n",
    "sim.NVT_run(n_steps=50_000, temperature=1200)\n",
    "sim.relax_run(n_steps=50_000)\n",
    "\n",
    "#206.5s paul non bonding\n",
    "#88.9s carlos non bonding\n",
    "#20.7s ayham numpy without linalg norm\n",
    "#20.6s ayham numpy\n",
    "#19.7 ayham numpy with njit paul bonding\n",
    "#18.5 ayham numpy with bonding njit\n",
    "#13.9s paul bonding parallel njit and njit carlos non bonding\n",
    "#12.1s njit (paul non bonding)\n",
    "#11.2s njit (carlos non bonding)\n",
    "#9.1s ayham numpy bonding njit and njit carlos non bonding\n",
    "#8.0s numpy bonding njit fastmath and njit fastmath carlos non bonding"
   ]
  },
  {
   "cell_type": "code",
   "execution_count": 3,
   "metadata": {},
   "outputs": [
    {
     "name": "stdout",
     "output_type": "stream",
     "text": [
      "500,000 step MMC run completed\n"
     ]
    }
   ],
   "source": [
    "sim = main.Simulation(n_atoms=22, starting_temperature=1000)\n",
    "sim.MMC_run(n_steps=500_000, temperature=2000)\n",
    "\n",
    "#11.0s for compiled numpy calculate PE change solution with precalculated random displacements\n",
    "#15.6s for compiled numpy calculate PE change solution\n",
    "#39.3s for old numpy recalculate full PE solution"
   ]
  },
  {
   "cell_type": "markdown",
   "metadata": {},
   "source": [
    "### Data Logging Tests"
   ]
  },
  {
   "cell_type": "code",
   "execution_count": null,
   "metadata": {},
   "outputs": [],
   "source": [
    "numbers = np.random.uniform(low=0, high=4, size=(20_000, 10))\n",
    "columns = [f'col_{i}' for i in range(10)]"
   ]
  },
  {
   "cell_type": "code",
   "execution_count": null,
   "metadata": {},
   "outputs": [
    {
     "name": "stdout",
     "output_type": "stream",
     "text": [
      "0.0004496999899856746\n"
     ]
    }
   ],
   "source": [
    "start = time.perf_counter()\n",
    "dataframe = pd.DataFrame(numbers, columns=columns)\n",
    "stop = time.perf_counter()\n",
    "print(stop-start)"
   ]
  },
  {
   "cell_type": "code",
   "execution_count": null,
   "metadata": {},
   "outputs": [
    {
     "name": "stdout",
     "output_type": "stream",
     "text": [
      "10.02576119999867\n"
     ]
    }
   ],
   "source": [
    "start = time.perf_counter()\n",
    "dataframe = pd.DataFrame(np.full(shape=numbers.shape, fill_value=np.NAN), columns=columns)\n",
    "for j, row in enumerate(numbers):\n",
    "    for i, value in enumerate(row):\n",
    "        dataframe.loc[j, f'col_{i}'] = value\n",
    "stop = time.perf_counter()\n",
    "print(stop-start)"
   ]
  },
  {
   "cell_type": "code",
   "execution_count": null,
   "metadata": {},
   "outputs": [
    {
     "name": "stdout",
     "output_type": "stream",
     "text": [
      "7.962099500000477\n"
     ]
    }
   ],
   "source": [
    "start = time.perf_counter()\n",
    "dataframe = pd.DataFrame(np.full(shape=numbers.shape, fill_value=np.NAN), columns=columns)\n",
    "for j, row in enumerate(numbers):\n",
    "    for i, value in enumerate(row):\n",
    "        dataframe.iloc[j, i] = value\n",
    "stop = time.perf_counter()\n",
    "print(stop-start)"
   ]
  },
  {
   "cell_type": "code",
   "execution_count": null,
   "metadata": {},
   "outputs": [
    {
     "name": "stdout",
     "output_type": "stream",
     "text": [
      "0.11671750003006309\n"
     ]
    }
   ],
   "source": [
    "start = time.perf_counter()\n",
    "array = np.full(shape=numbers.shape, fill_value=np.NAN)\n",
    "for j, row in enumerate(numbers):\n",
    "    for i, value in enumerate(row):\n",
    "        array[j, i] = value\n",
    "dataframe = pd.DataFrame(array, columns=columns)\n",
    "stop = time.perf_counter()\n",
    "print(stop-start)"
   ]
  },
  {
   "cell_type": "code",
   "execution_count": null,
   "metadata": {},
   "outputs": [
    {
     "name": "stdout",
     "output_type": "stream",
     "text": [
      "0.06050989998038858\n"
     ]
    }
   ],
   "source": [
    "start = time.perf_counter()\n",
    "counter = 0\n",
    "dataframe = pd.DataFrame(np.full(shape=numbers.shape, fill_value=np.NAN), columns=columns)\n",
    "for j, row in enumerate(numbers):\n",
    "    for i, value in enumerate(row):\n",
    "        counter += 1\n",
    "stop = time.perf_counter()\n",
    "print(stop-start)"
   ]
  },
  {
   "cell_type": "code",
   "execution_count": null,
   "metadata": {},
   "outputs": [
    {
     "name": "stdout",
     "output_type": "stream",
     "text": [
      "0.6060011000372469\n"
     ]
    }
   ],
   "source": [
    "start = time.perf_counter()\n",
    "dataframe = pd.DataFrame(np.full(shape=numbers.shape, fill_value=np.NAN), columns=columns)\n",
    "for j, row in enumerate(numbers):\n",
    "    dataframe.loc[j] = row\n",
    "stop = time.perf_counter()\n",
    "print(stop-start)"
   ]
  },
  {
   "cell_type": "code",
   "execution_count": null,
   "metadata": {},
   "outputs": [
    {
     "name": "stdout",
     "output_type": "stream",
     "text": [
      "3.166217799996957\n"
     ]
    }
   ],
   "source": [
    "start = time.perf_counter()\n",
    "dataframe = pd.DataFrame(np.full(shape=numbers.shape, fill_value=np.NAN), columns=columns)\n",
    "for j, row in enumerate(numbers):\n",
    "    row = {f'col_{i}': value for i, value in enumerate(row)}\n",
    "    dataframe.loc[j] = row\n",
    "stop = time.perf_counter()\n",
    "print(stop-start)"
   ]
  },
  {
   "cell_type": "code",
   "execution_count": null,
   "metadata": {},
   "outputs": [
    {
     "name": "stdout",
     "output_type": "stream",
     "text": [
      "0.15096970001468435\n"
     ]
    }
   ],
   "source": [
    "start = time.perf_counter()\n",
    "rows = []\n",
    "for j, row in enumerate(numbers):\n",
    "    rows.append({f'col_{i}': value for i, value in enumerate(row)})\n",
    "dataframe = pd.DataFrame(rows)\n",
    "stop = time.perf_counter()\n",
    "print(stop-start)"
   ]
  },
  {
   "cell_type": "code",
   "execution_count": null,
   "metadata": {},
   "outputs": [
    {
     "name": "stdout",
     "output_type": "stream",
     "text": [
      "0.2644046999630518\n"
     ]
    }
   ],
   "source": [
    "start = time.perf_counter()\n",
    "rows = []\n",
    "for j, row in enumerate(numbers):\n",
    "    rows.append({f'col_{i}': value.copy() for i, value in enumerate(row)})\n",
    "dataframe = pd.DataFrame(rows)\n",
    "stop = time.perf_counter()\n",
    "print(stop-start)"
   ]
  },
  {
   "cell_type": "code",
   "execution_count": null,
   "metadata": {},
   "outputs": [
    {
     "name": "stdout",
     "output_type": "stream",
     "text": [
      "0.17122710001422092\n"
     ]
    }
   ],
   "source": [
    "start = time.perf_counter()\n",
    "with open('temp.txt', 'w') as file:\n",
    "    for row in numbers:\n",
    "        file.write(' '.join(map(str, row)) + '\\n')\n",
    "stop = time.perf_counter()\n",
    "pl.Path().absolute().joinpath('temp.txt').unlink()\n",
    "print(stop-start)"
   ]
  }
 ],
 "metadata": {
  "kernelspec": {
   "display_name": "base",
   "language": "python",
   "name": "python3"
  },
  "language_info": {
   "codemirror_mode": {
    "name": "ipython",
    "version": 3
   },
   "file_extension": ".py",
   "mimetype": "text/x-python",
   "name": "python",
   "nbconvert_exporter": "python",
   "pygments_lexer": "ipython3",
   "version": "3.11.5"
  }
 },
 "nbformat": 4,
 "nbformat_minor": 2
}
